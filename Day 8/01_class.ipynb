{
 "cells": [
  {
   "cell_type": "code",
   "execution_count": 51,
   "id": "6892a45b-fea5-4a99-943f-125cd083ed52",
   "metadata": {},
   "outputs": [
    {
     "name": "stdout",
     "output_type": "stream",
     "text": [
      "5\n",
      "10\n"
     ]
    }
   ],
   "source": [
    "class MyClass:\n",
    "  x = 5\n",
    "  y = 10\n",
    "p1 = MyClass()\n",
    "print(p1.x)\n",
    "print(p1.y)\n"
   ]
  },
  {
   "cell_type": "code",
   "execution_count": 63,
   "id": "9a685cea-ea9a-4f91-84ac-13ef9892d7f8",
   "metadata": {},
   "outputs": [
    {
     "name": "stdout",
     "output_type": "stream",
     "text": [
      "Gautam is a Boy\n",
      "Mira is a Girl\n",
      "My name is Gautam\n",
      "My name is Mira\n"
     ]
    }
   ],
   "source": [
    "class Info:\n",
    "\n",
    "# class attribute\n",
    " attr1 = \"Boy\"\n",
    " attr2 = \"Girl\"\n",
    "\n",
    "# instance attribute\n",
    " def __init__(x, name):\n",
    "  x.name = name\n",
    "\n",
    "# driver code\n",
    "# object instantiation\n",
    "p1 = Info(\"Gautam\")\n",
    "p2 = Info(\"Mira\")\n",
    "\n",
    "# accessing class attributes\n",
    "print(\"Gautam is a {}\".format(p1.__class__.attr1))\n",
    "print(\"Mira is a {}\".format(p2.__class__.attr2))\n",
    "\n",
    "# accessing instance attributes\n",
    "print(\"My name is {}\".format(p1.name))\n",
    "print(\"My name is {}\".format(p2.name))"
   ]
  }
 ],
 "metadata": {
  "kernelspec": {
   "display_name": "Python 3 (ipykernel)",
   "language": "python",
   "name": "python3"
  },
  "language_info": {
   "codemirror_mode": {
    "name": "ipython",
    "version": 3
   },
   "file_extension": ".py",
   "mimetype": "text/x-python",
   "name": "python",
   "nbconvert_exporter": "python",
   "pygments_lexer": "ipython3",
   "version": "3.11.7"
  }
 },
 "nbformat": 4,
 "nbformat_minor": 5
}
