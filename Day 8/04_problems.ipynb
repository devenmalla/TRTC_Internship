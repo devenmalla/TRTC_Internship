{
 "cells": [
  {
   "cell_type": "code",
   "execution_count": 1,
   "id": "2e043652-b193-4603-91e5-b886fe6497e9",
   "metadata": {},
   "outputs": [
    {
     "name": "stdout",
     "output_type": "stream",
     "text": [
      "Parent constructor called\n",
      "Child constructor called\n",
      "Parent constructor called\n",
      "Child constructor called\n"
     ]
    }
   ],
   "source": [
    "class Parent:\n",
    "    def __init__(self):\n",
    "        print(\"Parent constructor called\")\n",
    "\n",
    "class Child(Parent):\n",
    "    def __init__(self):\n",
    "        Parent.__init__(self)\n",
    "        print(\"Child constructor called\")\n",
    "\n",
    "child_obj1 = Child()\n",
    "child_obj2 = Child()"
   ]
  },
  {
   "cell_type": "code",
   "execution_count": 1,
   "id": "97999d7a-24c2-4efd-abcc-92f2369e3f94",
   "metadata": {},
   "outputs": [
    {
     "name": "stdout",
     "output_type": "stream",
     "text": [
      "Parents constructor called. Name: Waliul khan\n",
      "Child constructor called. Age: 20\n",
      "Child constructor called. Gender: male\n",
      "Parents constructor called. Name: Arup\n",
      "Child constructor called. Age: 21\n",
      "Child constructor called. Gender: male\n"
     ]
    }
   ],
   "source": [
    "# (Home work) write a python program to demonstrate how parent constructors are called.\n",
    "\n",
    "class Parents:\n",
    "    def __init__(self, name):\n",
    "        self.name = name\n",
    "        print(f\"Parents constructor called. Name: {self.name}\")\n",
    "\n",
    "class Child(Parents):\n",
    "    def __init__(self, name, age, gender):\n",
    "        super().__init__(name)\n",
    "        self.age = age\n",
    "        self.gender = gender\n",
    "        print(f\"Child constructor called. Age: {self.age}\")\n",
    "        print(f\"Child constructor called. Gender: {self.gender}\")\n",
    "\n",
    "child_instance = Child(\"Waliul khan\", 20, \"male\")\n",
    "child_instance = Child(\"Arup\", 21, \"male\")\n"
   ]
  },
  {
   "cell_type": "code",
   "execution_count": 3,
   "id": "d6c56edd-7afd-4f5c-957a-54e6308efeb7",
   "metadata": {},
   "outputs": [
    {
     "name": "stdout",
     "output_type": "stream",
     "text": [
      "Rahul\n",
      "886012\n",
      "My name is Rahul\n",
      "IdNumber: 886012\n",
      "Post: Intern\n"
     ]
    }
   ],
   "source": [
    "class Person:\n",
    "    # __init__ is known as the constructor\n",
    "    def __init__(self, name, idnumber):\n",
    "        self.name = name\n",
    "        self.idnumber = idnumber\n",
    "\n",
    "    def display(self):\n",
    "        print(self.name)\n",
    "        print(self.idnumber)\n",
    "\n",
    "    def detail(self):\n",
    "        print(\"My name is {}\".format(self.name))\n",
    "        print(\"IdNumber: {}\".format(self.idnumber))\n",
    "\n",
    "# child class\n",
    "class Employee(Person):\n",
    "    def __init__(self, name, idnumber, salary, post):\n",
    "        self.salary = salary\n",
    "        self.post = post\n",
    "\n",
    "        # invoking the __init__ of the parent class\n",
    "        Person.__init__(self, name, idnumber)\n",
    "\n",
    "    def detail(self):\n",
    "        print(\"My name is {}\".format(self.name))\n",
    "        print(\"IdNumber: {}\".format(self.idnumber))\n",
    "        print(\"Post: {}\".format(self.post))\n",
    "\n",
    "# creation of an object variable or an instance\n",
    "a = Employee('Rahul', 886012, 200000, \"Intern\")\n",
    "\n",
    "# calling a function of the class Person using its instance\n",
    "a.display()\n",
    "a.detail()"
   ]
  },
  {
   "cell_type": "code",
   "execution_count": null,
   "id": "90b9d840-f20a-495a-b315-81856c8c4123",
   "metadata": {},
   "outputs": [],
   "source": []
  }
 ],
 "metadata": {
  "kernelspec": {
   "display_name": "Python 3 (ipykernel)",
   "language": "python",
   "name": "python3"
  },
  "language_info": {
   "codemirror_mode": {
    "name": "ipython",
    "version": 3
   },
   "file_extension": ".py",
   "mimetype": "text/x-python",
   "name": "python",
   "nbconvert_exporter": "python",
   "pygments_lexer": "ipython3",
   "version": "3.11.7"
  }
 },
 "nbformat": 4,
 "nbformat_minor": 5
}
