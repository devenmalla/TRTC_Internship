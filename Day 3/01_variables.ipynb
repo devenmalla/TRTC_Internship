{
 "cells": [
  {
   "cell_type": "code",
   "execution_count": 4,
   "id": "ad85373c-920e-41cb-b73e-732140967905",
   "metadata": {},
   "outputs": [
    {
     "name": "stdout",
     "output_type": "stream",
     "text": [
      "Deven\n"
     ]
    }
   ],
   "source": [
    "x = 4\n",
    "x = \"Deven\"\n",
    "print(x)"
   ]
  },
  {
   "cell_type": "code",
   "execution_count": 6,
   "id": "9b5189ef-1bd8-4f23-96b7-8fafd6918003",
   "metadata": {},
   "outputs": [
    {
     "name": "stdout",
     "output_type": "stream",
     "text": [
      "John\n",
      "John\n",
      "John\n",
      "John\n"
     ]
    }
   ],
   "source": [
    "x = \"John\"\n",
    "print(x)\n",
    "x = 'John'\n",
    "print(x)\n",
    "x = \"John\"\n",
    "print(x)\n",
    "x = 'John'\n",
    "print(x)"
   ]
  },
  {
   "cell_type": "code",
   "execution_count": null,
   "id": "643edfbe-1a4c-44a0-988b-a20bdd6fa1ee",
   "metadata": {},
   "outputs": [],
   "source": []
  }
 ],
 "metadata": {
  "kernelspec": {
   "display_name": "Python 3 (ipykernel)",
   "language": "python",
   "name": "python3"
  },
  "language_info": {
   "codemirror_mode": {
    "name": "ipython",
    "version": 3
   },
   "file_extension": ".py",
   "mimetype": "text/x-python",
   "name": "python",
   "nbconvert_exporter": "python",
   "pygments_lexer": "ipython3",
   "version": "3.11.7"
  }
 },
 "nbformat": 4,
 "nbformat_minor": 5
}
