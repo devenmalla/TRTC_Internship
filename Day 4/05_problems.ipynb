{
 "cells": [
  {
   "cell_type": "code",
   "execution_count": 1,
   "id": "e72790ba-cdec-4865-9a8e-01f90cfe063d",
   "metadata": {},
   "outputs": [
    {
     "name": "stdout",
     "output_type": "stream",
     "text": [
      "Function called 1 times\n",
      "Function called 2 times\n",
      "Function called 3 times\n"
     ]
    }
   ],
   "source": [
    "c_c = 0\n",
    "\n",
    "def t_c():\n",
    "  global c_c\n",
    "  c_c += 1\n",
    "  print(f\"Function called {c_c} times\")\n",
    "\n",
    "t_c()\n",
    "t_c()\n",
    "t_c()\n"
   ]
  },
  {
   "cell_type": "code",
   "execution_count": 3,
   "id": "88f3262b-c458-448c-a430-2660744b3a54",
   "metadata": {},
   "outputs": [
    {
     "name": "stdout",
     "output_type": "stream",
     "text": [
      "Current logging level: DEBUG\n"
     ]
    }
   ],
   "source": [
    "global_config = {\n",
    "    \"logging_level\": \"INFO\"\n",
    "}\n",
    "\n",
    "def set_logging_level(new_level):\n",
    "    global global_config\n",
    "    global_config[\"logging_level\"] = new_level\n",
    "\n",
    "def some_function():\n",
    "    print(f\"Current logging level: {global_config['logging_level']}\")\n",
    "\n",
    "set_logging_level(\"DEBUG\")\n",
    "some_function()\n"
   ]
  },
  {
   "cell_type": "code",
   "execution_count": null,
   "id": "19c79310-18fd-4b2d-b7b7-82672045c99e",
   "metadata": {},
   "outputs": [],
   "source": []
  }
 ],
 "metadata": {
  "kernelspec": {
   "display_name": "Python 3 (ipykernel)",
   "language": "python",
   "name": "python3"
  },
  "language_info": {
   "codemirror_mode": {
    "name": "ipython",
    "version": 3
   },
   "file_extension": ".py",
   "mimetype": "text/x-python",
   "name": "python",
   "nbconvert_exporter": "python",
   "pygments_lexer": "ipython3",
   "version": "3.11.7"
  }
 },
 "nbformat": 4,
 "nbformat_minor": 5
}
