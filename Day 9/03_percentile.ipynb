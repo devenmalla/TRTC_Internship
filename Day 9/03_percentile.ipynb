{
 "cells": [
  {
   "cell_type": "code",
   "execution_count": 3,
   "id": "622c17f7-c88e-410f-b986-67d4f862b43b",
   "metadata": {},
   "outputs": [
    {
     "name": "stdout",
     "output_type": "stream",
     "text": [
      "29.4\n"
     ]
    }
   ],
   "source": [
    "import numpy\n",
    "\n",
    "ages = [5,31,43,48,50,41,7,11,15,39,80,82,32,2,8,6,25,36,27,61,31]\n",
    "\n",
    "x = numpy.percentile(ages, 43)\n",
    "\n",
    "print(x)"
   ]
  },
  {
   "cell_type": "code",
   "execution_count": 1,
   "id": "f7d82877-62c3-478e-a650-0feb5d179828",
   "metadata": {},
   "outputs": [
    {
     "name": "stdout",
     "output_type": "stream",
     "text": [
      "50th percentile is: 44.0\n"
     ]
    }
   ],
   "source": [
    "import numpy as np\n",
    "\n",
    "data = [50,30,20,60.73,88,44,22,67,10]\n",
    "\n",
    "perc = np.percentile(data,50)\n",
    "\n",
    "print(\"50th percentile is:\",perc)"
   ]
  },
  {
   "cell_type": "code",
   "execution_count": 14,
   "id": "e04415ca-7b54-40ca-9841-e6c7ca152bb9",
   "metadata": {},
   "outputs": [
    {
     "name": "stdout",
     "output_type": "stream",
     "text": [
      "The percentile rank of 30 is 50.0%\n"
     ]
    }
   ],
   "source": [
    "import numpy as np\n",
    "\n",
    "def calculate_percentile_rank(data, value):\n",
    "    \"\"\"\n",
    "    Calculates the percentile rank (percentage) of a value in a given data set.\n",
    "    \n",
    "    Args:\n",
    "    data: A list or array of numerical values.\n",
    "    value: The value for which to find the percentile rank.\n",
    "    \n",
    "    Returns:\n",
    "    The percentile rank of the value as a percentage (between 0 and 100).\n",
    "    \"\"\"\n",
    "    # Sort the data in ascending order\n",
    "    sorted_data = sorted(data)\n",
    "    \n",
    "    # Handle cases where value is not in data\n",
    "    if value not in sorted_data:\n",
    "        return np.nan  # or raise an error depending on the desired behavior\n",
    "\n",
    "    # Find the position of the value in the sorted data\n",
    "    position = sorted_data.index(value) + 1\n",
    "\n",
    "    # Calculate the percentile rank (consider edge cases)\n",
    "    if len(data) == 1:\n",
    "        return 100.0  # Handle single-element data\n",
    "    elif position == 1:\n",
    "        return 0.0  # Handle value being the minimum\n",
    "    elif position == len(data):\n",
    "        return 100.0  # Handle value being the maximum\n",
    "    else:\n",
    "        # Linear interpolation for non-integer positions\n",
    "        percentile = (position - 1) / (len(data) - 1) * 100\n",
    "        return percentile\n",
    "\n",
    "# Example usage\n",
    "data = [10, 20, 30, 40, 50]\n",
    "value = 30\n",
    "percentile_rank = calculate_percentile_rank(data, value)\n",
    "print(f\"The percentile rank of {value} is {percentile_rank}%\")\n"
   ]
  }
 ],
 "metadata": {
  "kernelspec": {
   "display_name": "Python 3 (ipykernel)",
   "language": "python",
   "name": "python3"
  },
  "language_info": {
   "codemirror_mode": {
    "name": "ipython",
    "version": 3
   },
   "file_extension": ".py",
   "mimetype": "text/x-python",
   "name": "python",
   "nbconvert_exporter": "python",
   "pygments_lexer": "ipython3",
   "version": "3.11.7"
  }
 },
 "nbformat": 4,
 "nbformat_minor": 5
}
