{
 "cells": [
  {
   "cell_type": "code",
   "execution_count": 1,
   "id": "b0ff7fcb-20b1-430d-98db-80a7b880daa0",
   "metadata": {},
   "outputs": [
    {
     "name": "stdout",
     "output_type": "stream",
     "text": [
      "37.84501153334721\n"
     ]
    }
   ],
   "source": [
    "import numpy\n",
    "\n",
    "speed = [32,111,138,28,59,77,97]\n",
    "\n",
    "x = numpy.std(speed)\n",
    "\n",
    "print(x)\n"
   ]
  },
  {
   "cell_type": "code",
   "execution_count": 3,
   "id": "2a7334cc-5d22-45bc-8d3b-14ba5b4cfa6b",
   "metadata": {},
   "outputs": [
    {
     "name": "stdout",
     "output_type": "stream",
     "text": [
      "2.581988897471611\n"
     ]
    }
   ],
   "source": [
    "import numpy\n",
    "\n",
    "speed = [2,7,3,6,8,9,4,1,5]\n",
    "\n",
    "x = numpy.std(speed)\n",
    "\n",
    "print(x)\n"
   ]
  }
 ],
 "metadata": {
  "kernelspec": {
   "display_name": "Python 3 (ipykernel)",
   "language": "python",
   "name": "python3"
  },
  "language_info": {
   "codemirror_mode": {
    "name": "ipython",
    "version": 3
   },
   "file_extension": ".py",
   "mimetype": "text/x-python",
   "name": "python",
   "nbconvert_exporter": "python",
   "pygments_lexer": "ipython3",
   "version": "3.11.7"
  }
 },
 "nbformat": 4,
 "nbformat_minor": 5
}
