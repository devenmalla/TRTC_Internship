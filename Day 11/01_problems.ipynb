{
 "cells": [
  {
   "cell_type": "code",
   "execution_count": 21,
   "id": "799151e4-8efc-4c64-b20b-51b936dec301",
   "metadata": {},
   "outputs": [
    {
     "name": "stdout",
     "output_type": "stream",
     "text": [
      "Mean: 30.647058823529413\n",
      "Mode: 11\n",
      "Median: 22.0\n",
      "Standard Deviation: 23.584494349093475\n",
      "Percentage of values <= 30: 70.59%\n"
     ]
    }
   ],
   "source": [
    "from statistics import mode, StatisticsError\n",
    "import numpy as np\n",
    "\n",
    "data = [11, 77, 25, 26, 97, 22, 18, 11, 21, 12, 40, 55, 20, 32, 18, 10, 26]\n",
    "\n",
    "mean = np.mean(data)\n",
    "try:\n",
    "    mode_value = mode(data)\n",
    "except StatisticsError:\n",
    "    mode_value = \"No unique mode found\"\n",
    "\n",
    "median = np.median(data)\n",
    "std_dev = np.std(data)\n",
    "\n",
    "percentage_below_30 = np.mean(np.array(data) <= 30) * 100\n",
    "\n",
    "print(f\"Mean: {mean}\")\n",
    "print(f\"Mode: {mode_value}\")\n",
    "print(f\"Median: {median}\")\n",
    "print(f\"Standard Deviation: {std_dev}\")\n",
    "print(f\"Percentage of values <= 30: {percentage_below_30:.2f}%\")\n"
   ]
  },
  {
   "cell_type": "code",
   "execution_count": 29,
   "id": "db890d9a-0c15-498b-94f9-16bfc508eebd",
   "metadata": {},
   "outputs": [
    {
     "name": "stdout",
     "output_type": "stream",
     "text": [
      "Mean: 30.647058823529413\n",
      "Mode: [11]\n",
      "Mode Count: [2]\n",
      "Median: 22.0\n",
      "Standard Deviation: 23.584494349093475\n",
      "Percentage of values <= 30: 70.59%\n"
     ]
    }
   ],
   "source": [
    "from scipy import stats\n",
    "import numpy as np\n",
    "\n",
    "data = [11, 77, 25, 26, 97, 22, 18, 11, 21, 12, 40, 55, 20, 32, 18, 10, 26]\n",
    "\n",
    "mean = np.mean(data)\n",
    "median = np.median(data)\n",
    "std_dev = np.std(data)\n",
    "\n",
    "mode_result = stats.mode(data)\n",
    "mode_value = mode_result.mode\n",
    "mode_count = mode_result.count\n",
    "\n",
    "if isinstance(mode_value, np.ndarray):\n",
    "    mode_value = mode_value.tolist()\n",
    "    mode_count = mode_count.tolist()\n",
    "else:\n",
    "    mode_value = [mode_value]\n",
    "    mode_count = [mode_count]\n",
    "\n",
    "if len(set(data)) == len(data):\n",
    "    mode_value = [\"No unique mode found\"]\n",
    "    mode_count = [0]\n",
    "\n",
    "percentage_below_30 = np.mean(np.array(data) <= 30) * 100\n",
    "\n",
    "print(f\"Mean: {mean}\")\n",
    "print(f\"Mode: {mode_value}\")\n",
    "print(f\"Mode Count: {mode_count}\")\n",
    "print(f\"Median: {median}\")\n",
    "print(f\"Standard Deviation: {std_dev}\")\n",
    "print(f\"Percentage of values <= 30: {percentage_below_30:.2f}%\")\n"
   ]
  }
 ],
 "metadata": {
  "kernelspec": {
   "display_name": "Python 3 (ipykernel)",
   "language": "python",
   "name": "python3"
  },
  "language_info": {
   "codemirror_mode": {
    "name": "ipython",
    "version": 3
   },
   "file_extension": ".py",
   "mimetype": "text/x-python",
   "name": "python",
   "nbconvert_exporter": "python",
   "pygments_lexer": "ipython3",
   "version": "3.11.7"
  }
 },
 "nbformat": 4,
 "nbformat_minor": 5
}
