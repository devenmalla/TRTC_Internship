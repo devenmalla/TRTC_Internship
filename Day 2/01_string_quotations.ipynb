{
 "cells": [
  {
   "cell_type": "code",
   "execution_count": null,
   "id": "57b6209e-0423-406a-aa98-c738b6676f64",
   "metadata": {},
   "outputs": [],
   "source": [
    "name1 = 'abc'\n",
    "print(name1)\n",
    "name2 = \"def\"\n",
    "print(name2)\n",
    "name3 = \"\"\"abc\n",
    "           def\"\"\"\n",
    "print(name3)\n"
   ]
  }
 ],
 "metadata": {
  "kernelspec": {
   "display_name": "Python 3 (ipykernel)",
   "language": "python",
   "name": "python3"
  },
  "language_info": {
   "codemirror_mode": {
    "name": "ipython",
    "version": 3
   },
   "file_extension": ".py",
   "mimetype": "text/x-python",
   "name": "python",
   "nbconvert_exporter": "python",
   "pygments_lexer": "ipython3",
   "version": "3.11.7"
  }
 },
 "nbformat": 4,
 "nbformat_minor": 5
}
