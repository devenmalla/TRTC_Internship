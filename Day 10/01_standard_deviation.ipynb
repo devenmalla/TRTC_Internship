{
 "cells": [
  {
   "cell_type": "code",
   "execution_count": 1,
   "id": "72ea71c6-f7ed-424a-8e49-87389001f7b6",
   "metadata": {},
   "outputs": [
    {
     "name": "stdout",
     "output_type": "stream",
     "text": [
      "3.265986323710904\n"
     ]
    }
   ],
   "source": [
    "import numpy\n",
    "\n",
    "speed = [2,5,0,9,7,1]\n",
    "\n",
    "x = numpy.std(speed)\n",
    "\n",
    "print(x)\n"
   ]
  }
 ],
 "metadata": {
  "kernelspec": {
   "display_name": "Python 3 (ipykernel)",
   "language": "python",
   "name": "python3"
  },
  "language_info": {
   "codemirror_mode": {
    "name": "ipython",
    "version": 3
   },
   "file_extension": ".py",
   "mimetype": "text/x-python",
   "name": "python",
   "nbconvert_exporter": "python",
   "pygments_lexer": "ipython3",
   "version": "3.11.7"
  }
 },
 "nbformat": 4,
 "nbformat_minor": 5
}
